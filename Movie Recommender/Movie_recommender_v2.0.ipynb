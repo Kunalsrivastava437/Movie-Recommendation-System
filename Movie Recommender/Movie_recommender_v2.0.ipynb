{
 "cells": [
  {
   "cell_type": "code",
   "execution_count": 6,
   "id": "25709c9b",
   "metadata": {},
   "outputs": [],
   "source": [
    "#Library for calling python functions\n",
    "library(reticulate)\n",
    "#Library for calling DropNA function\n",
    "library(DataCombine)\n",
    "\n",
    "#Movies_data contains info of more than 9k movies\n",
    "movies_data  <- read.csv(\"movie.csv\")\n",
    "#Ratings_data contains more than 100k ratings provided by users\n",
    "ratings_data <- read.csv(\"ratings.csv\")\n"
   ]
  },
  {
   "cell_type": "code",
   "execution_count": 7,
   "id": "a09c454c",
   "metadata": {},
   "outputs": [],
   "source": [
    "#Dropping NA values from Ratings dataset\n",
    "ratings_data <- DropNA(ratings_data, message = FALSE)\n",
    "#Dropping NA values from Movies dataset\n",
    "movies_data <- DropNA(movies_data, message = FALSE)"
   ]
  },
  {
   "attachments": {
    "download.png": {
     "image/png": "[encoded data removed]"
    }
   },
   "cell_type": "markdown",
   "id": "2a135fc1",
   "metadata": {},
   "source": [
    "![download.png](attachment:download.png)"
   ]
  },
  {
   "cell_type": "code",
   "execution_count": 8,
   "id": "46515afd",
   "metadata": {},
   "outputs": [],
   "source": [
    "getMoviesList<-function(movies_data,ratings_data,user_id)\n",
    "{\n",
    "    #setting seed for avoiding random values\n",
    "    set.seed(123)\n",
    "    \n",
    "    #getting rid of movie ids and titles\n",
    "    movies_data1<-movies_data[,c(-1,-2)]\n",
    "    \n",
    "    #We got n=9 from above where we calculated 9 as optimal number of clusters using Elbow Method\n",
    "    movieCluster<-kmeans(movies_data1,9)\n",
    "\n",
    "    #Select all rows from ratings_data that have the userid==user_id and keep the columns itemid & rating\n",
    "    a<-subset(ratings_data, userid==user_id,select=c(itemid, rating))\n",
    "    \n",
    "    # allocate 0 to the cluster column\n",
    "    cluster<-0\n",
    "    activeUser <<- data.frame( a[order(a$itemid),] ,cluster)\n",
    "\n",
    "    # set up temporary dataframe to match cluster assignments to movie ids\n",
    "    df1<- data.frame(cbind(movies_data$movid, clusterNum = movieCluster$cluster))\n",
    "    names(df1)<-c(\"movie_id\", \"cluster\")\n",
    "    \n",
    "    #This matches the cluster number to the activeUser movie id\n",
    "    activeUser$cluster<-df1[match(activeUser$itemid, df1$movie_id),2]\n",
    "\n",
    "    #aggregate() function is used along with the cluster memberships to determine variable means for each cluster in the original metric\n",
    "    like<-aggregate(activeUser$rating, by=list(cluster=activeUser$cluster), mean)\n",
    "    \n",
    "    #A bit different approach here: If the max mean rating is below three it gives out the dummy value zero\n",
    "    if(max(like$x)<3)\n",
    "    {\n",
    "        like<-as.vector(0)\n",
    "    } \n",
    "    #Else it gives out the cluster number of the max mean value\n",
    "    else\n",
    "    {\n",
    "        like<-as.vector(t(max(subset(like, x>=3, select=cluster))))\n",
    "    }\n",
    "\n",
    "    # Again a temporary dataframe is created to get a list of all movies and their associated clusters\n",
    "    df1<- data.frame(cbind(movies_data$movid, clusterNum = movieCluster$cluster))\n",
    "    names(df1)<-c(\"movie_id\", \"cluster\")\n",
    "    \n",
    "    #if like has the value zero it selects randomly 100 movies\n",
    "    if(like==0)\n",
    "    {\n",
    "        recommend<-movies_data[sample.int(n = dim(movies_data)[1], size = 100), 1]\n",
    "    }\n",
    "    #else it selects all movies from the winning max mean cluster\n",
    "    else\n",
    "    {\n",
    "        recommend<-as.vector(t(subset(df1, cluster==like, select=movie_id)))\n",
    "    }\n",
    "    return(recommend)\n",
    "    \n",
    "}"
   ]
  },
  {
   "cell_type": "code",
   "execution_count": 9,
   "id": "65390cc1",
   "metadata": {},
   "outputs": [],
   "source": [
    "RecommendMovies<-function(movies_data, ratings_data, userid, no_films)\n",
    "{\n",
    "    #calling the get films function that will return the list of recommended movies for the entered used_id\n",
    "    recommend<-getMoviesList(movies_data,ratings_data,userid)\n",
    "    \n",
    "    # only selecting unwatched movies\n",
    "    recommend<-recommend[-activeUser$itemid]\n",
    "    \n",
    "    # adding movietitle\n",
    "    movtitle<-movies_data[match(recommend,movies_data$movid),2]\n",
    "    \n",
    "    #getting suggestions on sequel choices\n",
    "    suggestions <-data.frame(recommend,movtitle)\n",
    "    source_python('sequel.py')\n",
    "    \n",
    "    #here priority contains the sequel whose prequels are really liked by user\n",
    "    priority<-sequel_recommender(userid)\n",
    "    \n",
    "    #selecting n number of selections entered in suggestFilms function\n",
    "    suggestions = suggestions[1:no_films,]\n",
    "    writeLines(\"You may also like these movies:\")\n",
    "    \n",
    "    #printing suggestions without any column headers or row indices\n",
    "    write.table(suggestions[2], row.names = FALSE, col.names = FALSE)\n",
    "    write.table(priority,row.names = FALSE, col.names = FALSE)\n",
    "}"
   ]
  },
  {
   "cell_type": "code",
   "execution_count": 10,
   "id": "164cd345",
   "metadata": {},
   "outputs": [
    {
     "name": "stdout",
     "output_type": "stream",
     "text": [
      "You may also like these movies:\n",
      "\"Cutthroat Island (1995)\"\n",
      "\"City of Lost Children, The (CitÃ© des enfants perdus, La) (1995)\"\n",
      "\"Mortal Kombat (1995)\"\n",
      "\"White Squall (1996)\"\n",
      "\"Broken Arrow (1996)\"\n",
      "\"Hackers (1995)\"\n",
      "\"Waterworld (1995)\"\n",
      "\"Star Wars: Episode IV - A New Hope (1977)\"\n",
      "\"Stargate (1994)\"\n",
      "\"Star Trek: Generations (1994)\"\n",
      "\"True Lies (1994)\"\n",
      "\"Street Fighter (1994)\"\n",
      "\"Cliffhanger (1993)\"\n",
      "\"Demolition Man (1993)\"\n",
      "\"Jurassic Park (1993)\"\n",
      "\"Jumanji: Welcome to the Jungle (2017)\"\n",
      "\"Ever After: A Cinderella Story (1998)\"\n",
      "\"Cinderella Story, A (2004)\"\n",
      "\"Cinderella Man (2005)\"\n",
      "\"Cinderella (1997)\"\n",
      "\"Another Cinderella Story (2008)\"\n",
      "\"Cinderella (2015)\"\n",
      "\"Underworld (2003)\"\n",
      "\"Underworld: Evolution (2006)\"\n",
      "\"Underworld: Rise of the Lycans (2009)\"\n",
      "\"Underworld: Awakening (2012)\"\n",
      "\"Underworld: Blood Wars (2016)\"\n"
     ]
    }
   ],
   "source": [
    "RecommendMovies(movies_data, ratings_data, 71, 15)"
   ]
  },
  {
   "cell_type": "raw",
   "id": "7ffb7ace",
   "metadata": {},
   "source": [
    "#For Running Elbow Method to get Optimal Number of Clusters For Kmeans method\n",
    "clusterFilms<-function(movies_data){\n",
    "  rng<-2:20\n",
    "  set.seed(123)\n",
    "  tries<-100\n",
    "  avg.totw.ss<-integer(length(rng))\n",
    "  #get rid of movie ids and titles\n",
    "  movies_data<-movies_data[,c(-1,-2)]\n",
    "  for(v in rng)\n",
    "  {\n",
    "      v.totw.ss<-integer(tries)\n",
    "      for(i in 1:tries){\n",
    "         k.temp <-kmeans(movies_data,centers=v) #Run kmeans\n",
    "         v.totw.ss[i] <-k.temp$tot.withinss#Store the total withinss\n",
    "         }\n",
    "     avg.totw.ss[v-1] <-mean(v.totw.ss)\n",
    "  }\n",
    "  plot(rng,avg.totw.ss,type=\"b\", main=\"Total Within SS by Various K\",\n",
    "  ylab=\"Average Total Within Sum of Squares\",\n",
    "  xlab=\"Value of K\")\n",
    "}"
   ]
  }
 ],
 "metadata": {
  "kernelspec": {
   "display_name": "R",
   "language": "R",
   "name": "ir"
  },
  "language_info": {
   "codemirror_mode": "r",
   "file_extension": ".r",
   "mimetype": "text/x-r-source",
   "name": "R",
   "pygments_lexer": "r",
   "version": "4.1.0"
  }
 },
 "nbformat": 4,
 "nbformat_minor": 5
}
